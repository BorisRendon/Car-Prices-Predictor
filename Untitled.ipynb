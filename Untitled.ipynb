{
 "cells": [
  {
   "cell_type": "code",
   "execution_count": 20,
   "id": "strong-singer",
   "metadata": {},
   "outputs": [],
   "source": [
    "import pandas as pd\n",
    "import numpy as np\n",
    "from sklearn.model_selection import train_test_split\n"
   ]
  },
  {
   "cell_type": "markdown",
   "id": "increasing-worker",
   "metadata": {},
   "source": [
    "### Exploración del dataset"
   ]
  },
  {
   "cell_type": "code",
   "execution_count": 2,
   "id": "nominated-fabric",
   "metadata": {},
   "outputs": [],
   "source": [
    "def load_data(filename):\n",
    "    \"\"\" Load dataset from filename\n",
    "    Args:\n",
    "        filename (string): Path to data\n",
    "        \n",
    "    Returns:\n",
    "        df (DataFrame): Dataset from file\n",
    "    \"\"\"\n",
    "    \n",
    "    df = pd.read_csv(filename)\n",
    "  \n",
    "    return df\n"
   ]
  },
  {
   "cell_type": "code",
   "execution_count": 5,
   "id": "peripheral-traffic",
   "metadata": {},
   "outputs": [
    {
     "data": {
      "text/html": [
       "<div>\n",
       "<style scoped>\n",
       "    .dataframe tbody tr th:only-of-type {\n",
       "        vertical-align: middle;\n",
       "    }\n",
       "\n",
       "    .dataframe tbody tr th {\n",
       "        vertical-align: top;\n",
       "    }\n",
       "\n",
       "    .dataframe thead th {\n",
       "        text-align: right;\n",
       "    }\n",
       "</style>\n",
       "<table border=\"1\" class=\"dataframe\">\n",
       "  <thead>\n",
       "    <tr style=\"text-align: right;\">\n",
       "      <th></th>\n",
       "      <th>model</th>\n",
       "      <th>year</th>\n",
       "      <th>price</th>\n",
       "      <th>transmission</th>\n",
       "      <th>mileage</th>\n",
       "      <th>fuelType</th>\n",
       "      <th>tax</th>\n",
       "      <th>mpg</th>\n",
       "      <th>engineSize</th>\n",
       "      <th>make</th>\n",
       "    </tr>\n",
       "  </thead>\n",
       "  <tbody>\n",
       "    <tr>\n",
       "      <th>0</th>\n",
       "      <td>Corsa</td>\n",
       "      <td>2018</td>\n",
       "      <td>7885</td>\n",
       "      <td>Manual</td>\n",
       "      <td>9876</td>\n",
       "      <td>Petrol</td>\n",
       "      <td>145.0</td>\n",
       "      <td>55.4</td>\n",
       "      <td>1.4</td>\n",
       "      <td>vauxhall</td>\n",
       "    </tr>\n",
       "    <tr>\n",
       "      <th>1</th>\n",
       "      <td>Corsa</td>\n",
       "      <td>2019</td>\n",
       "      <td>11995</td>\n",
       "      <td>Manual</td>\n",
       "      <td>2500</td>\n",
       "      <td>Petrol</td>\n",
       "      <td>145.0</td>\n",
       "      <td>54.3</td>\n",
       "      <td>1.4</td>\n",
       "      <td>vauxhall</td>\n",
       "    </tr>\n",
       "    <tr>\n",
       "      <th>2</th>\n",
       "      <td>Corsa</td>\n",
       "      <td>2017</td>\n",
       "      <td>9777</td>\n",
       "      <td>Automatic</td>\n",
       "      <td>9625</td>\n",
       "      <td>Petrol</td>\n",
       "      <td>145.0</td>\n",
       "      <td>47.9</td>\n",
       "      <td>1.4</td>\n",
       "      <td>vauxhall</td>\n",
       "    </tr>\n",
       "    <tr>\n",
       "      <th>3</th>\n",
       "      <td>Corsa</td>\n",
       "      <td>2016</td>\n",
       "      <td>8500</td>\n",
       "      <td>Manual</td>\n",
       "      <td>25796</td>\n",
       "      <td>Petrol</td>\n",
       "      <td>30.0</td>\n",
       "      <td>55.4</td>\n",
       "      <td>1.4</td>\n",
       "      <td>vauxhall</td>\n",
       "    </tr>\n",
       "    <tr>\n",
       "      <th>4</th>\n",
       "      <td>Corsa</td>\n",
       "      <td>2019</td>\n",
       "      <td>10000</td>\n",
       "      <td>Manual</td>\n",
       "      <td>3887</td>\n",
       "      <td>Petrol</td>\n",
       "      <td>145.0</td>\n",
       "      <td>43.5</td>\n",
       "      <td>1.4</td>\n",
       "      <td>vauxhall</td>\n",
       "    </tr>\n",
       "  </tbody>\n",
       "</table>\n",
       "</div>"
      ],
      "text/plain": [
       "   model  year  price transmission  mileage fuelType    tax   mpg  engineSize  \\\n",
       "0  Corsa  2018   7885       Manual     9876   Petrol  145.0  55.4         1.4   \n",
       "1  Corsa  2019  11995       Manual     2500   Petrol  145.0  54.3         1.4   \n",
       "2  Corsa  2017   9777    Automatic     9625   Petrol  145.0  47.9         1.4   \n",
       "3  Corsa  2016   8500       Manual    25796   Petrol   30.0  55.4         1.4   \n",
       "4  Corsa  2019  10000       Manual     3887   Petrol  145.0  43.5         1.4   \n",
       "\n",
       "       make  \n",
       "0  vauxhall  \n",
       "1  vauxhall  \n",
       "2  vauxhall  \n",
       "3  vauxhall  \n",
       "4  vauxhall  "
      ]
     },
     "execution_count": 5,
     "metadata": {},
     "output_type": "execute_result"
    }
   ],
   "source": [
    "df = load_data('vehicle_prices.csv')\n",
    "df.head()"
   ]
  },
  {
   "cell_type": "code",
   "execution_count": 6,
   "id": "artificial-manufacturer",
   "metadata": {},
   "outputs": [
    {
     "name": "stdout",
     "output_type": "stream",
     "text": [
      "tax                  9353                 8.62%\n",
      "mpg                  9353                 8.62%\n"
     ]
    }
   ],
   "source": [
    "\n",
    "samples = df.shape[0]\n",
    "keep_cols = []\n",
    "drop_cols = []\n",
    "\n",
    "for col in df.columns:\n",
    "    nas = df[col].isna().sum()\n",
    "    percent = round(100*nas/samples,2)\n",
    "    if nas > 0:\n",
    "        print('{0:<20} {1:<20} {2}%'.format(col,nas,percent))\n",
    "    if percent < 30:\n",
    "        keep_cols.append(col)\n",
    "    else:\n",
    "        drop_cols.append(col)"
   ]
  },
  {
   "cell_type": "code",
   "execution_count": 10,
   "id": "capable-calcium",
   "metadata": {},
   "outputs": [
    {
     "name": "stdout",
     "output_type": "stream",
     "text": [
      "Columns to drop: [] \n",
      "Columns to keep ['model', 'year', 'price', 'transmission', 'mileage', 'fuelType', 'tax', 'mpg', 'engineSize', 'make']\n"
     ]
    }
   ],
   "source": [
    "print('Columns to drop:',drop_cols,\"\\nColumns to keep\", keep_cols)"
   ]
  },
  {
   "cell_type": "markdown",
   "id": "reported-vancouver",
   "metadata": {},
   "source": [
    "* Ninguna columna tiene más de 30% na's, por lo tanto nos vamos a quedar con todas"
   ]
  },
  {
   "cell_type": "code",
   "execution_count": 11,
   "id": "southwest-dating",
   "metadata": {},
   "outputs": [],
   "source": [
    "X = df.drop('price',axis=1)\n",
    "y= df['price']"
   ]
  },
  {
   "cell_type": "code",
   "execution_count": 19,
   "id": "august-identification",
   "metadata": {},
   "outputs": [
    {
     "data": {
      "text/plain": [
       "array(['Corsa', 'Astra', 'Viva', 'Mokka', 'Mokka X', 'Crossland X',\n",
       "       'Zafira', 'Meriva', 'Zafira Tourer', 'Adam', 'Grandland X',\n",
       "       'Antara', 'Insignia', 'Ampera', 'GTC', 'Combo Life', 'Vivaro',\n",
       "       'Cascada', 'Kadjar', 'Agila', 'Tigra', 'Vectra', '5 Series',\n",
       "       '6 Series', '1 Series', '7 Series', '2 Series', '4 Series', 'X3',\n",
       "       '3 Series', 'X5', 'X4', 'i3', 'X1', 'M4', 'X2', 'X6', '8 Series',\n",
       "       'Z4', 'X7', 'M5', 'i8', 'M2', 'M3', 'M6', 'Z3', 'T-Roc', 'Golf',\n",
       "       'Passat', 'T-Cross', 'Polo', 'Tiguan', 'Sharan', 'Up', 'Scirocco',\n",
       "       'Beetle', 'Caddy Maxi Life', 'Caravelle', 'Touareg', 'Arteon',\n",
       "       'Touran', 'Golf SV', 'Amarok', 'Tiguan Allspace', 'Shuttle',\n",
       "       'Jetta', 'CC', 'California', 'Caddy Life', 'Caddy', 'Caddy Maxi',\n",
       "       'Eos', 'Fox', 'I20', 'Tucson', 'I10', 'IX35', 'I30', 'I40',\n",
       "       'Ioniq', 'Kona', 'Veloster', 'I800', 'IX20', 'Santa Fe', 'Accent',\n",
       "       'Terracan', 'Getz', 'Amica', 'A1', 'A6', 'A4', 'A3', 'Q3', 'Q5',\n",
       "       'A5', 'S4', 'Q2', 'A7', 'TT', 'Q7', 'RS6', 'RS3', 'A8', 'Q8',\n",
       "       'RS4', 'RS5', 'R8', 'SQ5', 'S8', 'SQ7', 'S3', 'S5', 'A2', 'RS7',\n",
       "       'GT86', 'Corolla', 'RAV4', 'Yaris', 'Auris', 'Aygo', 'C-HR',\n",
       "       'Prius', 'Avensis', 'Verso', 'Hilux', 'PROACE VERSO',\n",
       "       'Land Cruiser', 'Supra', 'Camry', 'Verso-S', 'IQ', 'Urban Cruiser',\n",
       "       'Fiesta', 'Focus', 'Puma', 'Kuga', 'EcoSport', 'C-MAX', 'Mondeo',\n",
       "       'Ka+', 'Tourneo Custom', 'S-MAX', 'B-MAX', 'Edge',\n",
       "       'Tourneo Connect', 'Grand C-MAX', 'KA', 'Galaxy', 'Mustang',\n",
       "       'Grand Tourneo Connect', 'Fusion', 'Ranger', 'Streetka', 'Escort',\n",
       "       'Transit Tourneo', 'Octavia', 'Citigo', 'Yeti Outdoor', 'Superb',\n",
       "       'Kodiaq', 'Rapid', 'Karoq', 'Fabia', 'Yeti', 'Scala', 'Roomster',\n",
       "       'Kamiq', 'C Class', 'SLK', 'S Class', 'SL CLASS', 'G Class',\n",
       "       'GLE Class', 'GLA Class', 'A Class', 'B Class', 'GLC Class',\n",
       "       'E Class', 'GL Class', 'CLS Class', 'CLC Class', 'CLA Class',\n",
       "       'V Class', 'M Class', 'CL Class', 'GLS Class', 'GLB Class',\n",
       "       'X-CLASS', '180', 'CLK', 'R Class', '230', '220', '200'],\n",
       "      dtype=object)"
      ]
     },
     "execution_count": 19,
     "metadata": {},
     "output_type": "execute_result"
    }
   ],
   "source": [
    "X['model'].unique()"
   ]
  }
 ],
 "metadata": {
  "kernelspec": {
   "display_name": "Python 3",
   "language": "python",
   "name": "python3"
  },
  "language_info": {
   "codemirror_mode": {
    "name": "ipython",
    "version": 3
   },
   "file_extension": ".py",
   "mimetype": "text/x-python",
   "name": "python",
   "nbconvert_exporter": "python",
   "pygments_lexer": "ipython3",
   "version": "3.8.7"
  }
 },
 "nbformat": 4,
 "nbformat_minor": 5
}
